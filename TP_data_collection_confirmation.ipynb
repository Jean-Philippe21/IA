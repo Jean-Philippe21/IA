{
 "cells": [
  {
   "cell_type": "code",
   "execution_count": 1,
   "metadata": {},
   "outputs": [
    {
     "name": "stdout",
     "output_type": "stream",
     "text": [
      "You successfully prepared and ready to contribute 12 samples ({'EN': 3, 'FR': 3, 'AR': 3, 'JP': 3}).\n"
     ]
    }
   ],
   "source": [
    "import os\n",
    "import csv\n",
    "import torchaudio\n",
    "\n",
    "data_dir=\"/lium/home/mshamsi/expe/ENSIM/TP_data/\"\n",
    "# data_dir=\"\"\n",
    "txt_descibtion_file_name=\"0Info.txt\"\n",
    "\n",
    "if not os.path.isfile(data_dir+txt_descibtion_file_name):\n",
    "    print(f\"Error: {data_dir+txt_descibtion_file_name} does not found!\")\n",
    "    print(f\"\\tSolution: Set the variables of data_dir (use complete address end with /) and txt_descibtion_file_name to rigth value.\")\n",
    "else:\n",
    "    line_number=1\n",
    "    correct_file={\"EN\":0,\"FR\":0, \"AR\":0,\"JP\":0}\n",
    "    with open(data_dir+txt_descibtion_file_name, \"r\") as file:\n",
    "        reader = csv.reader(file)\n",
    "        for  row in  reader:# The  first  column  contains  the  file\n",
    "            if len(row)!=4:\n",
    "                print(f\"Error: line {line_number} contains {len(row)} columns instead of 4.\")\n",
    "                print(f\"\\tSolution: 1. Check the 4 required information (file name, URL, starting time, and label).\")\n",
    "                print(f\"\\tSolution: 2. Check your delimiter (use \\\",\\\")\")\n",
    "            elif not os.path.isfile(data_dir+row[0]):\n",
    "                print(f\"Error: line {line_number}, file {row[0]} does not exist!\")\n",
    "                print(f\"\\tSolution: Check the spelling of file name (it should contain .wav as well)\")\n",
    "            elif row[-1] not in [\"EN\",\"FR\",\"AR\",\"JP\"]:\n",
    "                print(f\"Error: line {line_number}, label {row[-1]} is not valid!\")\n",
    "                print(f\"\\tSolution: The label of language should be EN, FR, AR, or JP.\")\n",
    "            else:\n",
    "                SAMPLE_WAV_PATH=data_dir+row[0]\n",
    "                try:\n",
    "                    metadata = torchaudio.info(SAMPLE_WAV_PATH)\n",
    "                    if metadata.sample_rate != 16000:\n",
    "                        print(f\"Error: line {line_number} file {row[0]} is recorded with sample rate of {metadata.sample_rate}.\")\n",
    "                        print(f\"\\tSolution: Record (or convert) your wav file with sample rate of 16000.\")\n",
    "                    elif metadata.num_channels != 1:\n",
    "                        print(f\"Error: line {line_number} file {row[0]} is recorded with {metadata.sample_rate} channels.\")\n",
    "                        print(f\"\\tSolution: Record (or convert) your wav file with number of channel of ONE.\")\n",
    "                    elif metadata.num_frames < 80000:\n",
    "                        print(f\"Error: line {line_number} file {row[0]} is recorded ({metadata.num_frames/16000} sec.) less than 5 second.\")\n",
    "                        print(f\"\\tSolution: Record at least 5 seconds of speech.\")\n",
    "                    elif metadata.num_frames > 96000:\n",
    "                        print(f\"Error: line {line_number} file {row[0]} is recorded ({metadata.num_frames/16000} sec.) more than 6 seconds.\")\n",
    "                        print(f\"\\tSolution: Crop your file to maximum duration of 6 seconds.\")\n",
    "                    else:\n",
    "                        correct_file[row[-1]]+=1\n",
    "\n",
    "                except:\n",
    "                    print(f\"Error: line {line_number}, file {row[0]} is not valid!\")\n",
    "                    print(f\"\\tSolution: The problem can be due to recording process or saving process of file. Check the file to see if you can play and listen to file.\")\n",
    "            line_number+=1\n",
    "    print(f\"You successfully prepared and ready to contribute {sum(correct_file.values())} samples ({correct_file}).\")\n"
   ]
  },
  {
   "cell_type": "code",
   "execution_count": null,
   "metadata": {},
   "outputs": [],
   "source": []
  }
 ],
 "metadata": {
  "kernelspec": {
   "display_name": "Python 3",
   "language": "python",
   "name": "python3"
  },
  "language_info": {
   "codemirror_mode": {
    "name": "ipython",
    "version": 3
   },
   "file_extension": ".py",
   "mimetype": "text/x-python",
   "name": "python",
   "nbconvert_exporter": "python",
   "pygments_lexer": "ipython3",
   "version": "3.6.12"
  }
 },
 "nbformat": 4,
 "nbformat_minor": 4
}
