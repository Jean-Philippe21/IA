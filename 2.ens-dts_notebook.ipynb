{
 "cells": [
  {
   "cell_type": "markdown",
   "metadata": {},
   "source": [
    "# Decision Trees & Ensemble Learning tutorial\n",
    "## Libraries : Populating the iterative namespace¶"
   ]
  },
  {
   "cell_type": "code",
   "execution_count": 87,
   "metadata": {
    "ExecuteTime": {
     "end_time": "2019-03-30T18:35:02.848756Z",
     "start_time": "2019-03-30T18:34:53.011562Z"
    }
   },
   "outputs": [
    {
     "name": "stdout",
     "output_type": "stream",
     "text": [
      "Requirement already satisfied: numpy in /Users/habiboulaye/anaconda3/lib/python3.6/site-packages (1.16.2)\n",
      "Requirement already satisfied: numpy in /Users/habiboulaye/anaconda3/lib/python3.6/site-packages (1.16.2)\n",
      "Requirement already satisfied: matplotlib in /Users/habiboulaye/anaconda3/lib/python3.6/site-packages (3.0.2)\n",
      "Requirement already satisfied: numpy>=1.10.0 in /Users/habiboulaye/anaconda3/lib/python3.6/site-packages (from matplotlib) (1.16.2)\n",
      "Requirement already satisfied: cycler>=0.10 in /Users/habiboulaye/anaconda3/lib/python3.6/site-packages (from matplotlib) (0.10.0)\n",
      "Requirement already satisfied: kiwisolver>=1.0.1 in /Users/habiboulaye/anaconda3/lib/python3.6/site-packages (from matplotlib) (1.0.1)\n",
      "Requirement already satisfied: pyparsing!=2.0.4,!=2.1.2,!=2.1.6,>=2.0.1 in /Users/habiboulaye/anaconda3/lib/python3.6/site-packages (from matplotlib) (2.3.1)\n",
      "Requirement already satisfied: python-dateutil>=2.1 in /Users/habiboulaye/anaconda3/lib/python3.6/site-packages (from matplotlib) (2.8.0)\n",
      "Requirement already satisfied: six in /Users/habiboulaye/anaconda3/lib/python3.6/site-packages (from cycler>=0.10->matplotlib) (1.12.0)\n",
      "Requirement already satisfied: setuptools in /Users/habiboulaye/anaconda3/lib/python3.6/site-packages (from kiwisolver>=1.0.1->matplotlib) (40.8.0)\n",
      "Requirement already satisfied: seaborn in /Users/habiboulaye/anaconda3/lib/python3.6/site-packages (0.9.0)\n",
      "Requirement already satisfied: matplotlib>=1.4.3 in /Users/habiboulaye/anaconda3/lib/python3.6/site-packages (from seaborn) (3.0.2)\n",
      "Requirement already satisfied: scipy>=0.14.0 in /Users/habiboulaye/anaconda3/lib/python3.6/site-packages (from seaborn) (1.2.1)\n",
      "Requirement already satisfied: pandas>=0.15.2 in /Users/habiboulaye/anaconda3/lib/python3.6/site-packages (from seaborn) (0.24.1)\n",
      "Requirement already satisfied: numpy>=1.9.3 in /Users/habiboulaye/anaconda3/lib/python3.6/site-packages (from seaborn) (1.16.2)\n",
      "Requirement already satisfied: cycler>=0.10 in /Users/habiboulaye/anaconda3/lib/python3.6/site-packages (from matplotlib>=1.4.3->seaborn) (0.10.0)\n",
      "Requirement already satisfied: kiwisolver>=1.0.1 in /Users/habiboulaye/anaconda3/lib/python3.6/site-packages (from matplotlib>=1.4.3->seaborn) (1.0.1)\n",
      "Requirement already satisfied: pyparsing!=2.0.4,!=2.1.2,!=2.1.6,>=2.0.1 in /Users/habiboulaye/anaconda3/lib/python3.6/site-packages (from matplotlib>=1.4.3->seaborn) (2.3.1)\n",
      "Requirement already satisfied: python-dateutil>=2.1 in /Users/habiboulaye/anaconda3/lib/python3.6/site-packages (from matplotlib>=1.4.3->seaborn) (2.8.0)\n",
      "Requirement already satisfied: pytz>=2011k in /Users/habiboulaye/anaconda3/lib/python3.6/site-packages (from pandas>=0.15.2->seaborn) (2018.9)\n",
      "Requirement already satisfied: six in /Users/habiboulaye/anaconda3/lib/python3.6/site-packages (from cycler>=0.10->matplotlib>=1.4.3->seaborn) (1.12.0)\n",
      "Requirement already satisfied: setuptools in /Users/habiboulaye/anaconda3/lib/python3.6/site-packages (from kiwisolver>=1.0.1->matplotlib>=1.4.3->seaborn) (40.8.0)\n",
      "Requirement already satisfied: pandas in /Users/habiboulaye/anaconda3/lib/python3.6/site-packages (0.24.1)\n",
      "Requirement already satisfied: pytz>=2011k in /Users/habiboulaye/anaconda3/lib/python3.6/site-packages (from pandas) (2018.9)\n",
      "Requirement already satisfied: python-dateutil>=2.5.0 in /Users/habiboulaye/anaconda3/lib/python3.6/site-packages (from pandas) (2.8.0)\n",
      "Requirement already satisfied: numpy>=1.12.0 in /Users/habiboulaye/anaconda3/lib/python3.6/site-packages (from pandas) (1.16.2)\n",
      "Requirement already satisfied: six>=1.5 in /Users/habiboulaye/anaconda3/lib/python3.6/site-packages (from python-dateutil>=2.5.0->pandas) (1.12.0)\n",
      "Requirement already satisfied: scipy in /Users/habiboulaye/anaconda3/lib/python3.6/site-packages (1.2.1)\n"
     ]
    },
    {
     "data": {
      "text/plain": [
       "'0.20.3'"
      ]
     },
     "execution_count": 87,
     "metadata": {},
     "output_type": "execute_result"
    }
   ],
   "source": [
    "# Check required packages - Use pip install to install a new package \n",
    "!pip install numpy\n",
    "!pip install matplotlib\n",
    "!pip install seaborn\n",
    "!pip install pandas\n",
    "!pip install scipy"
   ]
  },
  {
   "cell_type": "code",
   "execution_count": 54,
   "metadata": {
    "ExecuteTime": {
     "end_time": "2019-03-30T18:01:40.641196Z",
     "start_time": "2019-03-30T18:01:40.632989Z"
    }
   },
   "outputs": [],
   "source": [
    "import os\n",
    "import pandas as pd\n",
    "import numpy as np\n",
    "from sklearn import datasets\n",
    "from sklearn import tree\n",
    "# Ensemble Learning\n",
    "from sklearn.ensemble import RandomForestClassifier\n",
    "from sklearn.ensemble import ExtraTreesClassifier\n",
    "from sklearn.ensemble import GradientBoostingClassifier\n",
    "from xgboost import XGBClassifier\n",
    "#from sklearn import cross_validation\n",
    "from sklearn.model_selection import KFold, cross_val_score\n",
    "import sklearn.model_selection as ms\n",
    "from sklearn import metrics\n",
    "\n",
    "from matplotlib import pyplot as plt\n",
    "%matplotlib inline"
   ]
  },
  {
   "cell_type": "markdown",
   "metadata": {},
   "source": [
    "## Load Data  for Classification"
   ]
  },
  {
   "cell_type": "code",
   "execution_count": 33,
   "metadata": {
    "ExecuteTime": {
     "end_time": "2019-03-30T17:56:53.319994Z",
     "start_time": "2019-03-30T17:56:53.294780Z"
    }
   },
   "outputs": [
    {
     "name": "stdout",
     "output_type": "stream",
     "text": [
      "(768, 9)\n"
     ]
    },
    {
     "data": {
      "text/html": [
       "<div>\n",
       "<style scoped>\n",
       "    .dataframe tbody tr th:only-of-type {\n",
       "        vertical-align: middle;\n",
       "    }\n",
       "\n",
       "    .dataframe tbody tr th {\n",
       "        vertical-align: top;\n",
       "    }\n",
       "\n",
       "    .dataframe thead th {\n",
       "        text-align: right;\n",
       "    }\n",
       "</style>\n",
       "<table border=\"1\" class=\"dataframe\">\n",
       "  <thead>\n",
       "    <tr style=\"text-align: right;\">\n",
       "      <th></th>\n",
       "      <th>preg</th>\n",
       "      <th>plas</th>\n",
       "      <th>pres</th>\n",
       "      <th>skin</th>\n",
       "      <th>test</th>\n",
       "      <th>mass</th>\n",
       "      <th>pedi</th>\n",
       "      <th>age</th>\n",
       "      <th>class</th>\n",
       "    </tr>\n",
       "  </thead>\n",
       "  <tbody>\n",
       "    <tr>\n",
       "      <th>0</th>\n",
       "      <td>6</td>\n",
       "      <td>148</td>\n",
       "      <td>72</td>\n",
       "      <td>35</td>\n",
       "      <td>0</td>\n",
       "      <td>33.6</td>\n",
       "      <td>0.627</td>\n",
       "      <td>50</td>\n",
       "      <td>1</td>\n",
       "    </tr>\n",
       "    <tr>\n",
       "      <th>1</th>\n",
       "      <td>1</td>\n",
       "      <td>85</td>\n",
       "      <td>66</td>\n",
       "      <td>29</td>\n",
       "      <td>0</td>\n",
       "      <td>26.6</td>\n",
       "      <td>0.351</td>\n",
       "      <td>31</td>\n",
       "      <td>0</td>\n",
       "    </tr>\n",
       "    <tr>\n",
       "      <th>2</th>\n",
       "      <td>8</td>\n",
       "      <td>183</td>\n",
       "      <td>64</td>\n",
       "      <td>0</td>\n",
       "      <td>0</td>\n",
       "      <td>23.3</td>\n",
       "      <td>0.672</td>\n",
       "      <td>32</td>\n",
       "      <td>1</td>\n",
       "    </tr>\n",
       "    <tr>\n",
       "      <th>3</th>\n",
       "      <td>1</td>\n",
       "      <td>89</td>\n",
       "      <td>66</td>\n",
       "      <td>23</td>\n",
       "      <td>94</td>\n",
       "      <td>28.1</td>\n",
       "      <td>0.167</td>\n",
       "      <td>21</td>\n",
       "      <td>0</td>\n",
       "    </tr>\n",
       "    <tr>\n",
       "      <th>4</th>\n",
       "      <td>0</td>\n",
       "      <td>137</td>\n",
       "      <td>40</td>\n",
       "      <td>35</td>\n",
       "      <td>168</td>\n",
       "      <td>43.1</td>\n",
       "      <td>2.288</td>\n",
       "      <td>33</td>\n",
       "      <td>1</td>\n",
       "    </tr>\n",
       "  </tbody>\n",
       "</table>\n",
       "</div>"
      ],
      "text/plain": [
       "   preg  plas  pres  skin  test  mass   pedi  age  class\n",
       "0     6   148    72    35     0  33.6  0.627   50      1\n",
       "1     1    85    66    29     0  26.6  0.351   31      0\n",
       "2     8   183    64     0     0  23.3  0.672   32      1\n",
       "3     1    89    66    23    94  28.1  0.167   21      0\n",
       "4     0   137    40    35   168  43.1  2.288   33      1"
      ]
     },
     "execution_count": 33,
     "metadata": {},
     "output_type": "execute_result"
    }
   ],
   "source": [
    "''' Pima-Indians-Diabetes-Data-Set \n",
    "DataSet description: https://www.kaggle.com/dssariya/pima-indians-diabetes-data-set \n",
    "A data frame with 768 observations on the following 9 variables.\n",
    "V1: Number of times pregnant\n",
    "V2: Plasma glucose concentration (glucose tolerance test)\n",
    "V3: Diastolic blood pressure (mm Hg)\n",
    "V4: Triceps skin fold thickness (mm)\n",
    "V5: 2-Hour serum insulin (mu U/ml)\n",
    "V6: Body mass index (weight in kg/(height in m)\\^2)\n",
    "V7: Diabetes pedigree function\n",
    "V8: Age (years)\n",
    "V9: Class variable (1:tested positive for diabetes, 0: tested negative for diabetes)\n",
    "'''\n",
    "#url = \"http://mlearn.ics.uci.edu/databases/pima-indians-diabetes/pima-indians-diabetes.data\"\n",
    "url = \"../../datasets/diabetes/pima-indians-diabetes.data\"\n",
    "names = ['preg', 'plas', 'pres', 'skin', 'test', 'mass', 'pedi', 'age', 'class']\n",
    "data = pd.read_csv(url, names=names)\n",
    "print(data.shape)\n",
    "data.head()"
   ]
  },
  {
   "cell_type": "code",
   "execution_count": 34,
   "metadata": {
    "ExecuteTime": {
     "end_time": "2019-03-30T17:56:54.800503Z",
     "start_time": "2019-03-30T17:56:54.559967Z"
    }
   },
   "outputs": [
    {
     "data": {
      "text/plain": [
       "(-0.5, 1.5)"
      ]
     },
     "execution_count": 34,
     "metadata": {},
     "output_type": "execute_result"
    },
    {
     "data": {
      "image/png": "[encoded data removed]",
      "text/plain": [
       "<Figure size 432x288 with 1 Axes>"
      ]
     },
     "metadata": {
      "needs_background": "light"
     },
     "output_type": "display_data"
    }
   ],
   "source": [
    "data['class'].value_counts()\n",
    "#class distribution\n",
    "data.hist(column = 'class')\n",
    "plt.xlim(-0.5,1.5)"
   ]
  },
  {
   "cell_type": "code",
   "execution_count": null,
   "metadata": {},
   "outputs": [],
   "source": []
  },
  {
   "cell_type": "markdown",
   "metadata": {},
   "source": [
    "conclusion ?"
   ]
  },
  {
   "cell_type": "markdown",
   "metadata": {},
   "source": [
    "##### Visualise Decision Tree using GraphViz"
   ]
  },
  {
   "cell_type": "code",
   "execution_count": 35,
   "metadata": {
    "ExecuteTime": {
     "end_time": "2019-03-30T17:56:57.753771Z",
     "start_time": "2019-03-30T17:56:57.748642Z"
    }
   },
   "outputs": [],
   "source": [
    "# GraphViz - Tree visualisation\n",
    "import pydotplus as pydot #Python interface to Graphviz's Dot language - pip install pydotplus #MacOS: brew install graphviz\n",
    "from IPython.display import Image\n",
    "from sklearn.externals.six import StringIO\n",
    "# Download graphviz\n",
    "os.environ[\"PATH\"] += os.pathsep + \"/usr/local/Cellar/graphviz/2.38.0_1/bin/\" # make\n",
    "#os.environ[\"PATH\"] += os.pathsep + \"D:\\\\path\\to\\graphviz\\\\bin\" # Windows\n",
    "#print(os.environ[\"PATH\"])"
   ]
  },
  {
   "cell_type": "code",
   "execution_count": 36,
   "metadata": {
    "ExecuteTime": {
     "end_time": "2019-03-30T17:56:58.394331Z",
     "start_time": "2019-03-30T17:56:58.380730Z"
    }
   },
   "outputs": [
    {
     "data": {
      "text/plain": [
       "DecisionTreeClassifier(class_weight=None, criterion='gini', max_depth=3,\n",
       "            max_features=None, max_leaf_nodes=None,\n",
       "            min_impurity_decrease=0.0, min_impurity_split=None,\n",
       "            min_samples_leaf=1, min_samples_split=2,\n",
       "            min_weight_fraction_leaf=0.0, presort=False, random_state=None,\n",
       "            splitter='best')"
      ]
     },
     "execution_count": 36,
     "metadata": {},
     "output_type": "execute_result"
    }
   ],
   "source": [
    "#Instanciate a Decision Tree Classifier and display default parametes\n",
    "dtc = tree.DecisionTreeClassifier(max_depth=3) #max_depth=1, criterion=\"entropy\")\n",
    "#Train the classifier\n",
    "X, y = data[names[:-1]], data['class']\n",
    "dtc.fit(X, y)"
   ]
  },
  {
   "cell_type": "markdown",
   "metadata": {},
   "source": [
    "Display tree model"
   ]
  },
  {
   "cell_type": "code",
   "execution_count": 37,
   "metadata": {
    "ExecuteTime": {
     "end_time": "2019-03-30T17:57:00.677710Z",
     "start_time": "2019-03-30T17:57:00.333834Z"
    }
   },
   "outputs": [
    {
     "data": {
      "image/png": "[encoded data removed]",
      "text/plain": [
       "<IPython.core.display.Image object>"
      ]
     },
     "execution_count": 37,
     "metadata": {},
     "output_type": "execute_result"
    }
   ],
   "source": [
    "dot_data = StringIO()\n",
    "tree.export_graphviz(dtc, out_file=dot_data, feature_names=X.columns, class_names=['healthy', 'diabetic']) #,feature_names=predictor)\n",
    "graph = pydot.graph_from_dot_data(dot_data.getvalue())\n",
    "Image(graph.create_png())"
   ]
  },
  {
   "cell_type": "code",
   "execution_count": null,
   "metadata": {},
   "outputs": [],
   "source": []
  },
  {
   "cell_type": "markdown",
   "metadata": {},
   "source": [
    "Conclusion?\n",
    "* Interpretation of values in tree nodes from Root to leaves\n",
    "* Vary the max_depth parameter and display tree"
   ]
  },
  {
   "cell_type": "markdown",
   "metadata": {},
   "source": [
    "## CrossValidation Strategy - Model selection"
   ]
  },
  {
   "cell_type": "code",
   "execution_count": 38,
   "metadata": {
    "ExecuteTime": {
     "end_time": "2019-03-30T17:57:04.562527Z",
     "start_time": "2019-03-30T17:57:04.553985Z"
    }
   },
   "outputs": [
    {
     "data": {
      "text/html": [
       "<img src=\"crossval.png\"/>"
      ],
      "text/plain": [
       "<IPython.core.display.Image object>"
      ]
     },
     "execution_count": 38,
     "metadata": {},
     "output_type": "execute_result"
    }
   ],
   "source": [
    "cv_url =  'crossval.png' #'http://i.imgur.com/N9HZktu.png'\n",
    "Image(url=cv_url)"
   ]
  },
  {
   "cell_type": "code",
   "execution_count": 43,
   "metadata": {
    "ExecuteTime": {
     "end_time": "2019-03-30T17:58:45.308490Z",
     "start_time": "2019-03-30T17:58:45.281669Z"
    }
   },
   "outputs": [
    {
     "name": "stdout",
     "output_type": "stream",
     "text": [
      "train_size: 691 some-train-indexes: [0 1 2 3 4 5 6 7 8 9]\n",
      "train_size: 77 some-test-indexes: [11 13 17 29 34 44 49 52 70 71]\n",
      "train_size: 691 some-train-indexes: [0 1 2 3 4 5 6 7 8 9]\n",
      "train_size: 77 some-test-indexes: [18 21 26 33 39 53 59 60 62 65]\n",
      "train_size: 691 some-train-indexes: [ 0  2  3  4  5  6  7  9 10 11]\n",
      "train_size: 77 some-test-indexes: [ 1  8 15 42 58 61 73 77 79 85]\n",
      "train_size: 691 some-train-indexes: [ 1  4  5  6  7  8  9 10 11 12]\n",
      "train_size: 77 some-test-indexes: [ 0  2  3 14 16 22 24 32 45 51]\n",
      "train_size: 691 some-train-indexes: [0 1 2 3 4 5 6 7 8 9]\n",
      "train_size: 77 some-test-indexes: [ 19  36  68  74  88  97 101 121 125 131]\n",
      "train_size: 691 some-train-indexes: [ 0  1  2  3  4  5  7  8 11 12]\n",
      "train_size: 77 some-test-indexes: [ 6  9 10 23 27 40 43 48 56 67]\n",
      "train_size: 691 some-train-indexes: [ 0  1  2  3  4  6  7  8  9 10]\n",
      "train_size: 77 some-test-indexes: [  5  46  50  54  75  86 102 105 107 120]\n",
      "train_size: 691 some-train-indexes: [ 0  1  2  3  4  5  6  8  9 10]\n",
      "train_size: 77 some-test-indexes: [ 7 12 20 25 31 35 38 47 57 64]\n",
      "train_size: 692 some-train-indexes: [ 0  1  2  3  5  6  7  8  9 10]\n",
      "train_size: 76 some-test-indexes: [  4  28  37  41  55  76  81  90 133 135]\n",
      "train_size: 692 some-train-indexes: [0 1 2 3 4 5 6 7 8 9]\n",
      "train_size: 76 some-test-indexes: [ 30  66  69  80  82 111 112 117 128 129]\n"
     ]
    }
   ],
   "source": [
    "CV_generator = KFold(n_splits=10, shuffle=True).split(X,y)\n",
    "#nb folds of cross validation\n",
    "for (train_idx, test_idx) in CV_generator:\n",
    "    print(\"train_size:\",len(train_idx),\"some-train-indexes:\", train_idx[:10]) \n",
    "    print(\"train_size:\",len(test_idx), \"some-test-indexes:\", test_idx[:10]) \n",
    "    input()"
   ]
  },
  {
   "cell_type": "markdown",
   "metadata": {},
   "source": [
    "##### 0- Decision Tree model\n",
    "Generate decision rules using simple series of Yes or No questions to classify"
   ]
  },
  {
   "cell_type": "code",
   "execution_count": 44,
   "metadata": {
    "ExecuteTime": {
     "end_time": "2019-03-30T17:58:56.402859Z",
     "start_time": "2019-03-30T17:58:56.310832Z"
    }
   },
   "outputs": [
    {
     "name": "stdout",
     "output_type": "stream",
     "text": [
      "CrossVal rounds scores: [0.6753246753246753, 0.7662337662337663, 0.7402597402597403, 0.7532467532467533, 0.7662337662337663, 0.6753246753246753, 0.7792207792207793, 0.7662337662337663, 0.7368421052631579, 0.75]\n",
      "Average Accuracy: 0.74 (+/- 0.07)\n"
     ]
    }
   ],
   "source": [
    "#CV_generator = KFold(n_splits=10, shuffle=True).split(X,y)\n",
    "dtc = tree.DecisionTreeClassifier(max_depth=3) # default max_depth=?    \n",
    "scores = []\n",
    "for idx_train, idx_test in KFold(n_splits=10, shuffle=True).split(X,y):\n",
    "    X_train, X_test = X.iloc[idx_train], X.iloc[idx_test]\n",
    "    y_train, y_test = y.iloc[idx_train], y.iloc[idx_test]\n",
    "    dtc.fit(X_train, y_train)\n",
    "    y_pred = dtc.predict(X_test)\n",
    "    acc_score = metrics.accuracy_score(y_test, y_pred)\n",
    "    scores.append(acc_score)\n",
    "print(\"CrossVal rounds scores:\", scores)\n",
    "print(\"Average Accuracy: %0.2f (+/- %0.2f)\" % (np.mean(scores), np.std(scores) * 2))"
   ]
  },
  {
   "cell_type": "markdown",
   "metadata": {},
   "source": [
    "##### 1- Random Forest Model\n",
    "Strategy of trees construction to reduce correlation: Each tree is built using sampling with replacement of training dataset and a random subset of features"
   ]
  },
  {
   "cell_type": "code",
   "execution_count": 47,
   "metadata": {
    "ExecuteTime": {
     "end_time": "2019-03-30T17:59:52.805903Z",
     "start_time": "2019-03-30T17:59:52.802502Z"
    }
   },
   "outputs": [],
   "source": [
    "kfold=10"
   ]
  },
  {
   "cell_type": "code",
   "execution_count": 48,
   "metadata": {
    "ExecuteTime": {
     "end_time": "2019-03-30T17:59:54.619826Z",
     "start_time": "2019-03-30T17:59:53.452948Z"
    }
   },
   "outputs": [
    {
     "name": "stdout",
     "output_type": "stream",
     "text": [
      "Accuracy: 0.76 (+/- 0.11)\n"
     ]
    }
   ],
   "source": [
    "rfc = RandomForestClassifier(n_estimators=100) # n_estimators=?, max_features=?\n",
    "scores = cross_val_score(rfc, X, y, cv=kfold)\n",
    "print(\"Accuracy: %0.2f (+/- %0.2f)\" % (scores.mean(), scores.std() * 2))"
   ]
  },
  {
   "cell_type": "markdown",
   "metadata": {},
   "source": [
    "##### 2- ExtraTrees Model\n",
    "Another modification of bagging where random trees are constructed from samples of the training dataset."
   ]
  },
  {
   "cell_type": "code",
   "execution_count": 50,
   "metadata": {
    "ExecuteTime": {
     "end_time": "2019-03-30T18:00:38.055614Z",
     "start_time": "2019-03-30T18:00:37.030704Z"
    }
   },
   "outputs": [
    {
     "name": "stdout",
     "output_type": "stream",
     "text": [
      "etc accuracy: 0.76 (+/- 0.11)\n"
     ]
    }
   ],
   "source": [
    "etc = ExtraTreesClassifier(n_estimators=100)\n",
    "scores = cross_val_score(etc, X, y, cv=kfold)\n",
    "print(\"etc accuracy: %0.2f (+/- %0.2f)\" % (scores.mean(), scores.std() * 2))"
   ]
  },
  {
   "cell_type": "markdown",
   "metadata": {},
   "source": [
    "##### 3- Gradient Boosting Model\n",
    "Combines a sequence of trees that attempt to correct the mistakes of the models before them in the sequence."
   ]
  },
  {
   "cell_type": "code",
   "execution_count": 52,
   "metadata": {
    "ExecuteTime": {
     "end_time": "2019-03-30T18:00:52.994268Z",
     "start_time": "2019-03-30T18:00:52.236316Z"
    }
   },
   "outputs": [
    {
     "name": "stdout",
     "output_type": "stream",
     "text": [
      "gbc accuracy: 0.76 (+/- 0.11)\n"
     ]
    }
   ],
   "source": [
    "gbc = GradientBoostingClassifier(n_estimators=100)   \n",
    "scores = cross_val_score(gbc, X, y, cv=kfold)\n",
    "print(\"gbc accuracy: %0.2f (+/- %0.2f)\" % (scores.mean(), scores.std() * 2))"
   ]
  },
  {
   "cell_type": "code",
   "execution_count": 58,
   "metadata": {
    "ExecuteTime": {
     "end_time": "2019-03-30T18:02:26.192662Z",
     "start_time": "2019-03-30T18:02:25.434911Z"
    }
   },
   "outputs": [
    {
     "name": "stdout",
     "output_type": "stream",
     "text": [
      "Accuracy: 0.76 (+/- 0.10)\n"
     ]
    }
   ],
   "source": [
    "##### 4- eXtreme Gradient Boosting\n",
    "#Very fast and effective version of Gradient boosting\n",
    "xgb = XGBClassifier(n_estimators=100)\n",
    "scores = cross_val_score(gbc, X, y, cv=kfold)\n",
    "print(\"Accuracy: %0.2f (+/- %0.2f)\" % (scores.mean(), scores.std() * 2))"
   ]
  },
  {
   "cell_type": "markdown",
   "metadata": {},
   "source": [
    "? conclusion"
   ]
  },
  {
   "cell_type": "markdown",
   "metadata": {},
   "source": [
    "### Variables Importance"
   ]
  },
  {
   "cell_type": "code",
   "execution_count": 59,
   "metadata": {
    "ExecuteTime": {
     "end_time": "2019-03-30T18:02:30.192091Z",
     "start_time": "2019-03-30T18:02:29.832132Z"
    }
   },
   "outputs": [
    {
     "data": {
      "text/plain": [
       "<matplotlib.axes._subplots.AxesSubplot at 0x1a283b9fd0>"
      ]
     },
     "execution_count": 59,
     "metadata": {},
     "output_type": "execute_result"
    },
    {
     "data": {
      "image/png": "[encoded data removed]",
      "text/plain": [
       "<Figure size 720x360 with 1 Axes>"
      ]
     },
     "metadata": {
      "needs_background": "light"
     },
     "output_type": "display_data"
    }
   ],
   "source": [
    "# Plot the feature importances of the forest\n",
    "rfc.fit(X,y)\n",
    "importances = rfc.feature_importances_\n",
    "#show to plot importances\n",
    "importances = pd.DataFrame({'feature':X.columns,'importance':np.round(importances,3)})\n",
    "importances = importances.sort_values('importance',ascending=False).set_index('feature')\n",
    "#print(importances)\n",
    "importances.plot(kind='bar', figsize=(10,5))"
   ]
  },
  {
   "cell_type": "markdown",
   "metadata": {},
   "source": [
    "Conclusion ?"
   ]
  },
  {
   "cell_type": "markdown",
   "metadata": {
    "collapsed": true
   },
   "source": [
    "## TrainTest Strategy - Model evaluation"
   ]
  },
  {
   "cell_type": "markdown",
   "metadata": {},
   "source": [
    "### Split TrainTest"
   ]
  },
  {
   "cell_type": "code",
   "execution_count": 60,
   "metadata": {
    "ExecuteTime": {
     "end_time": "2019-03-30T18:02:34.719248Z",
     "start_time": "2019-03-30T18:02:34.509691Z"
    }
   },
   "outputs": [
    {
     "name": "stdout",
     "output_type": "stream",
     "text": [
      "size train/test: 595/173\n"
     ]
    }
   ],
   "source": [
    "import sklearn.utils\n",
    "data = sklearn.utils.shuffle(data)\n",
    "data['is_train'] = np.random.uniform(0, 1, len(data)) <= 3/4 #.75\n",
    "train, test = data[data['is_train']==True], data[data['is_train']==False]\n",
    "print(\"size train/test: {0}/{1}\".format(train.shape[0], test.shape[0]))\n",
    "X_train, y_train = train[names[:-1]], train['class']\n",
    "X_test, y_test = test[names[:-1]], test['class']"
   ]
  },
  {
   "cell_type": "markdown",
   "metadata": {},
   "source": [
    "### Performance evaluation"
   ]
  },
  {
   "cell_type": "code",
   "execution_count": 61,
   "metadata": {
    "ExecuteTime": {
     "end_time": "2019-03-30T18:02:52.417751Z",
     "start_time": "2019-03-30T18:02:52.414601Z"
    }
   },
   "outputs": [],
   "source": [
    "from sklearn import metrics"
   ]
  },
  {
   "cell_type": "code",
   "execution_count": 63,
   "metadata": {
    "ExecuteTime": {
     "end_time": "2019-03-30T18:03:37.298152Z",
     "start_time": "2019-03-30T18:03:36.941505Z"
    }
   },
   "outputs": [],
   "source": [
    "clf_map = {'RandomForest': rfc, 'ExtraTrees': etc, 'GradientBoosting': gbc, 'XGBoost':xgb }\n",
    "clf_preds_map = {}\n",
    "for cname, clf in clf_map.items():\n",
    "    clf.fit(X_train, y_train)\n",
    "    clf_preds_map[cname] = clf.predict(X_test)"
   ]
  },
  {
   "cell_type": "markdown",
   "metadata": {},
   "source": [
    "##### Accuracy"
   ]
  },
  {
   "cell_type": "code",
   "execution_count": 64,
   "metadata": {
    "ExecuteTime": {
     "end_time": "2019-03-30T18:03:39.986166Z",
     "start_time": "2019-03-30T18:03:39.977522Z"
    }
   },
   "outputs": [
    {
     "name": "stdout",
     "output_type": "stream",
     "text": [
      "=> RandomForest accuracy = [0.74]]\n",
      "=> ExtraTrees accuracy = [0.78]]\n",
      "=> GradientBoosting accuracy = [0.77]]\n",
      "=> XGBoost accuracy = [0.77]]\n"
     ]
    }
   ],
   "source": [
    "for cname, _ in clf_map.items():\n",
    "    print(\"=> {0} accuracy = [{1:.2f}]]\".format(cname, metrics.accuracy_score(y_test,clf_preds_map[cname])))"
   ]
  },
  {
   "cell_type": "markdown",
   "metadata": {},
   "source": [
    "Conclusion ?"
   ]
  },
  {
   "cell_type": "markdown",
   "metadata": {},
   "source": [
    "##### Confusion matrix"
   ]
  },
  {
   "cell_type": "code",
   "execution_count": 65,
   "metadata": {
    "ExecuteTime": {
     "end_time": "2019-03-30T18:03:50.591479Z",
     "start_time": "2019-03-30T18:03:50.574459Z"
    }
   },
   "outputs": [],
   "source": [
    "conf_map = {}\n",
    "for cname, _ in clf_map.items():\n",
    "    conf_map[cname]=metrics.confusion_matrix(y_test, clf_preds_map[cname])"
   ]
  },
  {
   "cell_type": "code",
   "execution_count": 84,
   "metadata": {
    "ExecuteTime": {
     "end_time": "2019-03-30T18:11:34.750966Z",
     "start_time": "2019-03-30T18:11:34.169355Z"
    }
   },
   "outputs": [
    {
     "name": "stdout",
     "output_type": "stream",
     "text": [
      "Confusion Matrix of the 3 Classifiers\n"
     ]
    },
    {
     "name": "stderr",
     "output_type": "stream",
     "text": [
      "/Users/habiboulaye/anaconda3/lib/python3.6/site-packages/matplotlib/figure.py:98: MatplotlibDeprecationWarning: \n",
      "Adding an axes using the same arguments as a previous axes currently reuses the earlier instance.  In a future version, a new instance will always be created and returned.  Meanwhile, this warning can be suppressed, and the future behavior ensured, by passing a unique label to each axes instance.\n",
      "  \"Adding an axes using the same arguments as a previous axes \"\n"
     ]
    },
    {
     "data": {
      "image/png": "[encoded data removed]",
      "text/plain": [
       "<Figure size 1080x216 with 8 Axes>"
      ]
     },
     "metadata": {
      "needs_background": "light"
     },
     "output_type": "display_data"
    }
   ],
   "source": [
    "import seaborn as sns\n",
    "plt.figure(figsize=(15, 3))\n",
    "print('Confusion Matrix of the 3 Classifiers')\n",
    "nb_cls = len(clf_map)\n",
    "plt.subplot(1, nb_cls, 1) # starts from 1\n",
    "for i, cname in enumerate(conf_map):\n",
    "    plt.subplot(1, nb_cls, i+1)\n",
    "    plt.title(cname);\n",
    "    sns.heatmap(conf_map[cname], annot=True,  fmt='')"
   ]
  },
  {
   "cell_type": "markdown",
   "metadata": {},
   "source": [
    "##### Area Under Curve - Receiver Operating Characteristic"
   ]
  },
  {
   "cell_type": "code",
   "execution_count": 85,
   "metadata": {
    "ExecuteTime": {
     "end_time": "2019-03-30T18:11:43.076664Z",
     "start_time": "2019-03-30T18:11:42.851380Z"
    }
   },
   "outputs": [
    {
     "name": "stdout",
     "output_type": "stream",
     "text": [
      "=> RandomForest auc_roc [0.84] ]\n",
      "=> ExtraTrees auc_roc [0.85] ]\n",
      "=> GradientBoosting auc_roc [0.81] ]\n",
      "=> XGBoost auc_roc [0.83] ]\n"
     ]
    },
    {
     "data": {
      "image/png": "[encoded data removed]",
      "text/plain": [
       "<Figure size 432x288 with 1 Axes>"
      ]
     },
     "metadata": {
      "needs_background": "light"
     },
     "output_type": "display_data"
    }
   ],
   "source": [
    "colors = ['seagreen', 'blue', 'darkorange', 'indigo']\n",
    "i = 0\n",
    "mean_tpr = 0.0\n",
    "mean_fpr = np.linspace(0, 1, 100)\n",
    "for cname, clf in clf_map.items():\n",
    "    fpr, tpr, thresholds = metrics.roc_curve(y_test, clf.predict_proba(X_test)[:, 1])\n",
    "    roc_auc = metrics.auc(fpr, tpr)\n",
    "    print(\"=> {0} auc_roc [{1:.2f}] ]\".format(cname, roc_auc))\n",
    "    plt.plot(fpr, tpr, color=colors[i],label='ROC {0} (area = {1:.2f})'.format(cname, roc_auc))\n",
    "    i += 1\n",
    "plt.plot([0, 1], [0, 1], linestyle='--', color='k', label='Good Luck')\n",
    "plt.xlim([-0.05, 1.05])\n",
    "plt.ylim([-0.05, 1.05])\n",
    "plt.xlabel('False Positive Rate')\n",
    "plt.ylabel('True Positive Rate')\n",
    "plt.title('Receiver Operating Characteristic')\n",
    "plt.legend(loc=\"lower right\")\n",
    "plt.show()"
   ]
  },
  {
   "cell_type": "markdown",
   "metadata": {},
   "source": [
    "Conclusion ?"
   ]
  }
 ],
 "metadata": {
  "anaconda-cloud": {},
  "hide_input": false,
  "kernelspec": {
   "display_name": "Python 3",
   "language": "python",
   "name": "python3"
  },
  "language_info": {
   "codemirror_mode": {
    "name": "ipython",
    "version": 3
   },
   "file_extension": ".py",
   "mimetype": "text/x-python",
   "name": "python",
   "nbconvert_exporter": "python",
   "pygments_lexer": "ipython3",
   "version": "3.6.8"
  },
  "toc": {
   "base_numbering": 1,
   "nav_menu": {},
   "number_sections": true,
   "sideBar": true,
   "skip_h1_title": false,
   "title_cell": "Table of Contents",
   "title_sidebar": "Contents",
   "toc_cell": false,
   "toc_position": {},
   "toc_section_display": true,
   "toc_window_display": false
  }
 },
 "nbformat": 4,
 "nbformat_minor": 1
}
